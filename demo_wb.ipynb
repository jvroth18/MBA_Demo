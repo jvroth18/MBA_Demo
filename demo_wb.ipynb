{
 "cells": [
  {
   "cell_type": "code",
   "execution_count": 8,
   "metadata": {},
   "outputs": [],
   "source": [
    "import faiss\n",
    "import numpy as np\n",
    "import pandas as pd\n",
    "from sentence_transformers import SentenceTransformer\n",
    "import faulthandler\n",
    "faulthandler.enable()"
   ]
  },
  {
   "attachments": {},
   "cell_type": "markdown",
   "metadata": {},
   "source": [
    "### Three different influencer types\n",
    "1. Health & Wellness: I am focused on improving the health and well-being of my community. I do this by sharing diet, exercise, and lifestyle tips.\n",
    "2. Food & Drink: Discovering hidden gems in the food insustry are my passion. I love to uncover good and unique food to share with my followers.\n",
    "3. Travel Influencer: My passion is exploring the globe. I love experiencing different cultures from their foods to day-to-day lifestyle. I try to share these unique experiences with my following"
   ]
  },
  {
   "cell_type": "code",
   "execution_count": 15,
   "metadata": {},
   "outputs": [],
   "source": [
    "# Define the three different influencers with a potentialto be included in the campaign\n",
    "influencer_list = {'Martha': 'Discovering hidden gems in the food insustry are my passion. I love to uncover good and unique food to share with my followers.',\n",
    "                   'Billy': 'My passion is exploring the globe. I love experiencing different cultures from their foods to day-to-day lifestyle. I try to share these unique experiences with my following',\n",
    "                   'Joan': 'I am focused on improving the health and well-being of my community. I do this by sharing diet, exercise, and lifestyle tips.'}\n",
    "\n",
    "# Add these infuencers to a pandas object\n",
    "influencers = pd.DataFrame({'name': list(influencer_list.keys()), 'description': list(influencer_list.values())})"
   ]
  },
  {
   "attachments": {},
   "cell_type": "markdown",
   "metadata": {},
   "source": [
    "## Encode the influencers in to an \"in-memory\" vector storage DB"
   ]
  },
  {
   "cell_type": "code",
   "execution_count": 16,
   "metadata": {},
   "outputs": [],
   "source": [
    "# Extract the desctiptions from the influencers\n",
    "descriptions = influencers['description']\n",
    "# Define the encoder which will be used to create \"embeddings\"\n",
    "encoder = SentenceTransformer(\"paraphrase-mpnet-base-v2\")\n",
    "# Embed the descriptions into vectors\n",
    "vectors = encoder.encode(descriptions)\n",
    "\n",
    "# Identify thq dimension of the vectors\n",
    "vector_dimension = vectors.shape[1]\n",
    "# Create an index for the influencervectors\n",
    "index = faiss.IndexFlatL2(vector_dimension)\n",
    "# Normalize the vectors\n",
    "faiss.normalize_L2(vectors)\n",
    "# Add the vectors to the index\n",
    "index.add(vectors)"
   ]
  },
  {
   "attachments": {},
   "cell_type": "markdown",
   "metadata": {},
   "source": [
    "## Encode a campaign description which will be used to search the influencers"
   ]
  },
  {
   "cell_type": "code",
   "execution_count": 35,
   "metadata": {},
   "outputs": [],
   "source": [
    "# Define a query which will be used to search for similar influencers\n",
    "marketing_campaign_description = 'A salad campaign'\n",
    "# Encode the campaign description which will be used as the search vector for \n",
    "search_vector = encoder.encode(marketing_campaign_description)\n",
    "_vector = np.array([search_vector])\n",
    "faiss.normalize_L2(_vector)"
   ]
  },
  {
   "attachments": {},
   "cell_type": "markdown",
   "metadata": {},
   "source": [
    "## Execute the index search"
   ]
  },
  {
   "cell_type": "code",
   "execution_count": 36,
   "metadata": {},
   "outputs": [],
   "source": [
    "# Define the number of similar influencers to return\n",
    "k = index.ntotal\n",
    "# Execute the search vector\n",
    "distances, ann = index.search(_vector, k=k)"
   ]
  },
  {
   "attachments": {},
   "cell_type": "markdown",
   "metadata": {},
   "source": [
    "## Display the results"
   ]
  },
  {
   "cell_type": "code",
   "execution_count": 37,
   "metadata": {},
   "outputs": [],
   "source": [
    "# Create a pandas object with the results\n",
    "results = pd.DataFrame({'distances': distances[0], 'ann': ann[0]})\n",
    "# Merge the results with the influencers\n",
    "merge = pd.merge(results, influencers, left_on='ann', right_index=True)\n",
    "merge"
   ]
  },
  {
   "cell_type": "code",
   "execution_count": null,
   "metadata": {},
   "outputs": [],
   "source": []
  }
 ],
 "metadata": {
  "kernelspec": {
   "display_name": "llm_models",
   "language": "python",
   "name": "python3"
  },
  "language_info": {
   "codemirror_mode": {
    "name": "ipython",
    "version": 3
   },
   "file_extension": ".py",
   "mimetype": "text/x-python",
   "name": "python",
   "nbconvert_exporter": "python",
   "pygments_lexer": "ipython3",
   "version": "3.8.18"
  },
  "orig_nbformat": 4
 },
 "nbformat": 4,
 "nbformat_minor": 2
}
